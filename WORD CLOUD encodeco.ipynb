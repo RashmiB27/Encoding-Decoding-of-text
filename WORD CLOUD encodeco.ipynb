{
 "cells": [
  {
   "cell_type": "code",
   "execution_count": 269,
   "id": "47264166-6cd7-4fb2-811b-9a67e5942f38",
   "metadata": {},
   "outputs": [],
   "source": [
    "#import csv file\n",
    "import pandas as pd\n",
    "text = pd.read_csv(\"t_asv.csv\")"
   ]
  },
  {
   "cell_type": "markdown",
   "id": "8c00a5de-8356-482e-86d5-b36e92ad7128",
   "metadata": {},
   "source": [
    "consider text coloumn of csv file"
   ]
  },
  {
   "cell_type": "code",
   "execution_count": 270,
   "id": "f9ae4762-f570-491c-8cd1-c841a56fb969",
   "metadata": {},
   "outputs": [],
   "source": [
    "text = text['t']"
   ]
  },
  {
   "cell_type": "markdown",
   "id": "7201a6d9-edd6-4009-a8d0-bdc0517eea42",
   "metadata": {},
   "source": [
    "convert whole text into list"
   ]
  },
  {
   "cell_type": "code",
   "execution_count": 271,
   "id": "1707431f-b3d3-4a68-aa40-131228c25177",
   "metadata": {},
   "outputs": [],
   "source": [
    "abc = []\n",
    "for i in text:\n",
    "    abc.append(i)"
   ]
  },
  {
   "cell_type": "markdown",
   "id": "56620491-8fe2-419b-bb45-6faec1f35e03",
   "metadata": {},
   "source": [
    "convert list to paragraph"
   ]
  },
  {
   "cell_type": "code",
   "execution_count": 272,
   "id": "0a824915-44f7-4fef-9c2f-b960f0fc2e19",
   "metadata": {},
   "outputs": [],
   "source": [
    "main_text=' '.join(abc)"
   ]
  },
  {
   "cell_type": "markdown",
   "id": "dc9f929a-f1b6-4e4b-9366-0cf1182fe011",
   "metadata": {},
   "source": [
    "replace : and And from text"
   ]
  },
  {
   "cell_type": "code",
   "execution_count": 273,
   "id": "6cffdb1e-2c64-4bdf-bf51-798054d68d55",
   "metadata": {},
   "outputs": [],
   "source": [
    "main_text=main_text.replace(\":\",\" \")\n",
    "main_text= main_text.replace(\"And\",\" \")"
   ]
  },
  {
   "cell_type": "markdown",
   "id": "4e6355a5-5b19-41ba-9ba0-30f0798568d2",
   "metadata": {},
   "source": [
    "to find all words in text split function is used"
   ]
  },
  {
   "cell_type": "code",
   "execution_count": 274,
   "id": "9c85e399-f3e4-4899-9568-7f472c7df943",
   "metadata": {},
   "outputs": [],
   "source": [
    "words=main_text.split(\" \")"
   ]
  },
  {
   "cell_type": "markdown",
   "id": "88f0431d-ebb7-4e75-af75-01024c1245d4",
   "metadata": {},
   "source": [
    "to find unique words"
   ]
  },
  {
   "cell_type": "code",
   "execution_count": 275,
   "id": "a102d4bb-0447-462b-aa53-29b40da3a66e",
   "metadata": {},
   "outputs": [],
   "source": [
    "st= set(words)"
   ]
  },
  {
   "cell_type": "markdown",
   "id": "9991d921-924c-4866-97ea-8e6c599222d9",
   "metadata": {},
   "source": [
    "convert set into list"
   ]
  },
  {
   "cell_type": "code",
   "execution_count": 276,
   "id": "c526af9e-fbc9-444f-af68-0c8c9250e047",
   "metadata": {},
   "outputs": [],
   "source": [
    "mainf = list(st)"
   ]
  },
  {
   "cell_type": "markdown",
   "id": "e38390e8-95a8-4865-bf47-70e4e544ec93",
   "metadata": {},
   "source": [
    "create dictionary to encode and decode and filling the values in them."
   ]
  },
  {
   "cell_type": "code",
   "execution_count": 277,
   "id": "0b8f6285-00b9-4a8c-8164-a5353e421200",
   "metadata": {},
   "outputs": [],
   "source": [
    "encoding = {}\n",
    "decoding = {}\n",
    "var = 0\n",
    "for i in mainf:\n",
    "    encoding[i]=var\n",
    "    decoding[var]=i\n",
    "    var+=1"
   ]
  },
  {
   "cell_type": "markdown",
   "id": "c69ee3f2-7e9f-4007-be7f-2646405133f0",
   "metadata": {},
   "source": [
    "ENCODING PART"
   ]
  },
  {
   "cell_type": "code",
   "execution_count": 286,
   "id": "87c45385-0271-4c15-8cb4-c90932fef01c",
   "metadata": {},
   "outputs": [],
   "source": [
    "for i in range(len(words)):\n",
    "    words[i]=encoding[str(words[i])]\n",
    "encodingf=' '.join([str(x) for x  in words])"
   ]
  },
  {
   "cell_type": "markdown",
   "id": "3fef8774-04cd-4c7d-a690-51a9b54f11e7",
   "metadata": {},
   "source": [
    "DECODING PART"
   ]
  },
  {
   "cell_type": "code",
   "execution_count": 287,
   "id": "b37f2ced-8ed3-4581-9be5-604a2999c269",
   "metadata": {},
   "outputs": [],
   "source": [
    "for i in range(len(words)):\n",
    "    words[i]=decoding[words[i]]\n",
    "decodingf = ' '.join(words)"
   ]
  },
  {
   "cell_type": "markdown",
   "id": "e20c3a3d-3e30-4f99-9e5e-308266682366",
   "metadata": {},
   "source": [
    "print 'encodingf' to encode the text"
   ]
  },
  {
   "cell_type": "code",
   "execution_count": null,
   "id": "ddcc56b7-340d-4672-81b2-27435337619c",
   "metadata": {},
   "outputs": [],
   "source": []
  },
  {
   "cell_type": "markdown",
   "id": "e1681259-f840-4504-8e01-6db8733334b0",
   "metadata": {},
   "source": [
    "print 'decodingf' to decode the text"
   ]
  },
  {
   "cell_type": "code",
   "execution_count": null,
   "id": "14dc83c4-be13-4154-aaef-ba20c3ad02f0",
   "metadata": {},
   "outputs": [],
   "source": []
  }
 ],
 "metadata": {
  "kernelspec": {
   "display_name": "Python 3",
   "language": "python",
   "name": "python3"
  },
  "language_info": {
   "codemirror_mode": {
    "name": "ipython",
    "version": 3
   },
   "file_extension": ".py",
   "mimetype": "text/x-python",
   "name": "python",
   "nbconvert_exporter": "python",
   "pygments_lexer": "ipython3",
   "version": "3.8.8"
  }
 },
 "nbformat": 4,
 "nbformat_minor": 5
}
